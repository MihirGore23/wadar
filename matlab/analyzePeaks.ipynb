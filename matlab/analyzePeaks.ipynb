{
 "cells": [
  {
   "cell_type": "code",
   "execution_count": 18,
   "metadata": {},
   "outputs": [],
   "source": [
    "xlsxFilename = 'corr.xlsx'"
   ]
  },
  {
   "cell_type": "markdown",
   "metadata": {},
   "source": [
    "# Function declaration "
   ]
  },
  {
   "cell_type": "code",
   "execution_count": 19,
   "metadata": {},
   "outputs": [],
   "source": [
    "import pandas as pd\n",
    "import re\n",
    "import matplotlib.pyplot as plt\n",
    "import numpy as np\n",
    "\n",
    "def groupAnalysis(df, groupName):\n",
    "    \n",
    "    df_info = pd.DataFrame(index = df[groupName].unique(), \\\n",
    "                           columns = ['count', 'meanPeakError', 'meanAbsPeakError', \\\n",
    "                                      'peakErrorWithinT', 'stdPeakError', '5%', '95%'])\n",
    "\n",
    "    df_grouped = df[[groupName] + ['peakErrors_1', 'peakErrorsAbs_1', 'peakErrorsWithinT_1']].groupby(groupName)\n",
    "\n",
    "    df_info['meanPeakError'] = df_grouped['peakErrors_1'].mean()\n",
    "    df_info['stdPeakError'] = df_grouped['peakErrors_1'].std()\n",
    "    df_info['meanAbsPeakError'] = df_grouped['peakErrorsAbs_1'].mean()\n",
    "    df_info['peakErrorWithinT'] = df_grouped['peakErrorsWithinT_1'].mean()\n",
    "    df_info['count'] = df_grouped['peakErrors_1'].count()\n",
    "    df_info['5%'] = df_grouped['peakErrors_1'].quantile(0.05)\n",
    "    df_info['95%'] = df_grouped['peakErrors_1'].quantile(0.95)\n",
    "\n",
    "    return df_info.sort_index()"
   ]
  },
  {
   "cell_type": "markdown",
   "metadata": {},
   "source": [
    "# get the dataframe and do some processing "
   ]
  },
  {
   "cell_type": "code",
   "execution_count": 20,
   "metadata": {},
   "outputs": [
    {
     "name": "stdout",
     "output_type": "stream",
     "text": [
      "Index(['expNames', 'captureNames', 'peaksManual', 'peakPreds_1', 'peakPreds_2',\n",
      "       'peakErrors_1', 'peakErrors_2', 'vwcTrue', 'vwcManual', 'vwcPreds_1',\n",
      "       'vwcPreds_2', 'vwcErrors_1', 'vwcErrors_2', 'moistureLevel',\n",
      "       'peakErrorsAbs_1', 'tagType', 'peakErrorsWithinT_1'],\n",
      "      dtype='object')\n"
     ]
    }
   ],
   "source": [
    "df = pd.read_excel('/home/bradley/Documents/Research/peak_detect/' + xlsxFilename)\n",
    "\n",
    "# drop null values \n",
    "df = df.dropna()\n",
    "\n",
    "# remove trailing number on captures \n",
    "df['captureNames'] = df['captureNames'].apply(lambda s: re.sub(r'\\d+$', '', s))\n",
    "\n",
    "# define moisture levels in increments \n",
    "df['moistureLevel'] = ((df['vwcTrue'] * 2 // 0.1) + 1).astype('int32')\n",
    "df['moistureLevel'] = df['moistureLevel'].map({1: \"0-0.1\",\\\n",
    "                                              2: \"0-0.1\",\\\n",
    "                                              3: \"0.1-0.2\",\\\n",
    "                                              4: \"0.1-0.2\",\\\n",
    "                                              5: \"0.2-0.25\",\\\n",
    "                                              6: \"0.25-0.3\",\\\n",
    "                                              7: \"0.3-0.35\",\\\n",
    "                                              8: \">0.35\",\\\n",
    "                                              9: \">0.35\",\\\n",
    "                                              10: \">0.35\"})\n",
    "\n",
    "# calculate absolute value of peak error \n",
    "df['peakErrorsAbs_1'] = abs(df['peakErrors_1'])\n",
    "\n",
    "\n",
    "# define whether the experiment was active or passive \n",
    "df['tagType'] = df['expNames'].apply(lambda x: 'passive' if ('passive' in x) else 'active')\n",
    "\n",
    "# determine if auto peak within t bins of manual peak \n",
    "t = 15\n",
    "df['peakErrorsWithinT_1'] = np.where(df['peakErrors_1'].abs() <= t, True, False)\n",
    "\n",
    "print(df.columns)"
   ]
  },
  {
   "cell_type": "markdown",
   "metadata": {},
   "source": [
    "# How close are we to the correct bin, on average? "
   ]
  },
  {
   "cell_type": "code",
   "execution_count": 21,
   "metadata": {},
   "outputs": [
    {
     "name": "stdout",
     "output_type": "stream",
     "text": [
      "mean, std for error on bin prediction for template 1 = 2.8234265734265733, 28.667870213940926\n",
      "\n",
      "Roughly 5% of bin predictions are more than than 51.0 below the measured bin\n",
      "Roughly 5% of bin predictions are more than than 45.0 above the measured bin\n"
     ]
    },
    {
     "data": {
      "image/png": "[encoded data removed]",
      "text/plain": [
       "<Figure size 1296x432 with 1 Axes>"
      ]
     },
     "metadata": {
      "needs_background": "light"
     },
     "output_type": "display_data"
    }
   ],
   "source": [
    "print('mean, std for error on bin prediction for template 1 = {}, {}\\n'\\\n",
    "      .format(df['peakErrors_1'].mean(),df['peakErrors_1'].std()))\n",
    "\n",
    "hist = df.hist(column = 'peakErrors_1', bins = 100, figsize = (18,6));\n",
    "\n",
    "# 5% and 95% \n",
    "print('Roughly 5% of bin predictions are more than than {} below the measured bin'\\\n",
    "      .format(-1*df['peakErrors_1'].quantile(.05).round(0)))\n",
    "print('Roughly 5% of bin predictions are more than than {} above the measured bin'\\\n",
    "      .format(df['peakErrors_1'].quantile(.95).round(0)))"
   ]
  },
  {
   "cell_type": "markdown",
   "metadata": {},
   "source": [
    "# Group Analysis"
   ]
  },
  {
   "cell_type": "code",
   "execution_count": 22,
   "metadata": {},
   "outputs": [
    {
     "name": "stdout",
     "output_type": "stream",
     "text": [
      "          count  meanPeakError  meanAbsPeakError  peakErrorWithinT  \\\n",
      "0-0.1        50       4.940000          5.180000          0.860000   \n",
      "0.1-0.2     120       3.841667          7.275000          0.866667   \n",
      "0.2-0.25     19      31.815789         31.815789          0.421053   \n",
      "0.25-0.3     49      12.163265         22.367347          0.489796   \n",
      "0.3-0.35     29     -25.241379         26.413793          0.620690   \n",
      ">0.35        19     -19.421053         27.842105          0.789474   \n",
      "\n",
      "          stdPeakError      5%    95%  \n",
      "0-0.1        12.493933   -1.00  36.00  \n",
      "0.1-0.2      16.341932   -8.05  18.15  \n",
      "0.2-0.25     26.137038    3.70  64.00  \n",
      "0.25-0.3     27.475252  -44.00  54.20  \n",
      "0.3-0.35     33.720125  -78.40   5.00  \n",
      ">0.35        58.496264 -156.90  10.40  \n"
     ]
    }
   ],
   "source": [
    "# Analysis by Moisture Level\n",
    "\n",
    "print(groupAnalysis(df, 'moistureLevel'))"
   ]
  },
  {
   "cell_type": "code",
   "execution_count": 23,
   "metadata": {},
   "outputs": [
    {
     "name": "stdout",
     "output_type": "stream",
     "text": [
      "              count  meanPeakError  meanAbsPeakError  peakErrorWithinT  \\\n",
      "active_silt      50       3.980000          8.980000          0.900000   \n",
      "clay_active      49      -3.755102         21.959184          0.448980   \n",
      "clay_passive     49      11.877551         15.020408          0.714286   \n",
      "farm_active      39      -1.705128         21.320513          0.794872   \n",
      "farm_passive     50       4.120000         10.680000          0.820000   \n",
      "silt_passive     49       1.448980         10.224490          0.775510   \n",
      "\n",
      "              stdPeakError     5%    95%  \n",
      "active_silt      24.307965  -10.0  37.70  \n",
      "clay_active      33.441822  -63.0  36.00  \n",
      "clay_passive     22.706123   -7.2  56.60  \n",
      "farm_active      45.260317 -119.9  26.30  \n",
      "farm_passive     22.537624  -13.1  44.85  \n",
      "silt_passive     18.781708  -32.0  29.00  \n"
     ]
    }
   ],
   "source": [
    "# Analysis by experiment \n",
    "\n",
    "print(groupAnalysis(df, 'expNames'))"
   ]
  },
  {
   "cell_type": "code",
   "execution_count": 24,
   "metadata": {},
   "outputs": [
    {
     "name": "stdout",
     "output_type": "stream",
     "text": [
      "         count  meanPeakError  meanAbsPeakError  peakErrorWithinT  \\\n",
      "active     138      -0.373188         17.076087          0.710145   \n",
      "passive    148       5.804054         11.966216          0.770270   \n",
      "\n",
      "         stdPeakError    5%   95%  \n",
      "active      34.392966 -63.0  36.0  \n",
      "passive     21.735472 -11.3  49.3  \n"
     ]
    }
   ],
   "source": [
    "# Analysis by tag\n",
    "\n",
    "print(groupAnalysis(df, 'tagType'))"
   ]
  },
  {
   "cell_type": "code",
   "execution_count": null,
   "metadata": {},
   "outputs": [],
   "source": []
  }
 ],
 "metadata": {
  "kernelspec": {
   "display_name": "Python 3",
   "language": "python",
   "name": "python3"
  },
  "language_info": {
   "codemirror_mode": {
    "name": "ipython",
    "version": 3
   },
   "file_extension": ".py",
   "mimetype": "text/x-python",
   "name": "python",
   "nbconvert_exporter": "python",
   "pygments_lexer": "ipython3",
   "version": "3.7.3"
  }
 },
 "nbformat": 4,
 "nbformat_minor": 2
}
