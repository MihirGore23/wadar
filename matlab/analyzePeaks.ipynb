{
 "cells": [
  {
   "cell_type": "code",
   "execution_count": 9,
   "metadata": {},
   "outputs": [],
   "source": [
    "import pandas as pd\n",
    "import re\n",
    "import matplotlib.pyplot as plt\n",
    "import numpy as np\n",
    "\n",
    "def groupAnalysis(df, groupName):\n",
    "    df_info = pd.DataFrame(index = df[groupName].unique(), \\\n",
    "                           columns = ['count', 'meanPeakError', 'meanAbsPeakError', \\\n",
    "                                      'peakErrorWithinT', 'stdPeakError', '5%', '95%'])\n",
    "\n",
    "    df_grouped = df[[groupName] + ['peakErrors_1', 'peakErrorsAbs_1', 'peakErrorsWithinT_1']].groupby(groupName)\n",
    "\n",
    "    df_info['meanPeakError'] = df_grouped['peakErrors_1'].mean()\n",
    "    df_info['stdPeakError'] = df_grouped['peakErrors_1'].std()\n",
    "    df_info['meanAbsPeakError'] = df_grouped['peakErrorsAbs_1'].mean()\n",
    "    df_info['peakErrorWithinT'] = df_grouped['peakErrorsWithinT_1'].mean()\n",
    "    df_info['count'] = df_grouped['peakErrors_1'].count()\n",
    "    df_info['5%'] = df_grouped['peakErrors_1'].quantile(0.05)\n",
    "    df_info['95%'] = df_grouped['peakErrors_1'].quantile(0.95)\n",
    "\n",
    "    return df_info.sort_index()"
   ]
  },
  {
   "cell_type": "code",
   "execution_count": 10,
   "metadata": {},
   "outputs": [
    {
     "name": "stdout",
     "output_type": "stream",
     "text": [
      "Index(['expNames', 'captureNames', 'peaksManual', 'peakPreds_1', 'peakPreds_2',\n",
      "       'peakErrors_1', 'peakErrors_2', 'vwcTrue', 'vwcManual', 'vwcPreds_1',\n",
      "       'vwcPreds_2', 'vwcErrors_1', 'vwcErrors_2', 'moistureLevel',\n",
      "       'peakErrorsAbs_1', 'peakErrorsAbs_2', 'tagType', 'peakErrorsWithinT_1',\n",
      "       'col2'],\n",
      "      dtype='object')\n"
     ]
    }
   ],
   "source": [
    "# get the dataframe and do some processing \n",
    "\n",
    "xlsxFilename = 'corr.xlsx'\n",
    "xlsxFilename2 = 'corr.xlsx'\n",
    "df = pd.read_excel('/home/bradley/Documents/Research/peak_detect/' + xlsxFilename)\n",
    "df2 = pd.read_excel('/home/bradley/Documents/Research/peak_detect/' + xlsxFilename2)\n",
    "\n",
    "# drop null values \n",
    "df = df.dropna()\n",
    "df2 = df2.dropna()\n",
    "\n",
    "# remove trailing number on captures \n",
    "df['captureNames'] = df['captureNames'].apply(lambda s: re.sub(r'\\d+$', '', s))\n",
    "\n",
    "# define moisture levels in increments \n",
    "df['moistureLevel'] = ((df['vwcTrue'] * 2 // 0.1) + 1).astype('int32')\n",
    "df['moistureLevel'] = df['moistureLevel'].map({1: \"0-0.1\",\\\n",
    "                                              2: \"0-0.1\",\\\n",
    "                                              3: \"0.1-0.2\",\\\n",
    "                                              4: \"0.1-0.2\",\\\n",
    "                                              5: \"0.2-0.25\",\\\n",
    "                                              6: \"0.25-0.3\",\\\n",
    "                                              7: \"0.3-0.35\",\\\n",
    "                                              8: \">0.35\",\\\n",
    "                                              9: \">0.35\",\\\n",
    "                                              10: \">0.35\"})\n",
    "\n",
    "# calculate absolute value of peak error \n",
    "df['peakErrorsAbs_1'] = abs(df['peakErrors_1'])\n",
    "df['peakErrorsAbs_2'] = abs(df2['peakErrors_1'])\n",
    "df['peakErrorsAbs_1'] = df[['peakErrorsAbs_1','peakErrorsAbs_2']].min(axis=1)\n",
    "\n",
    "\n",
    "# define whether the experiment was active or passive \n",
    "df['tagType'] = df['expNames'].apply(lambda x: 'passive' if ('passive' in x) else 'active')\n",
    "\n",
    "# determine if auto peak within 10 bins of manual peak \n",
    "df['peakErrorsWithinT_1'] = np.where(df['peakErrors_1'].abs() <= 15, True, False)\n",
    "\n",
    "# add df2 preds column to df\n",
    "df['col2'] = df2['peakPreds_1']\n",
    "\n",
    "print(df.columns)"
   ]
  },
  {
   "cell_type": "code",
   "execution_count": 11,
   "metadata": {},
   "outputs": [
    {
     "name": "stdout",
     "output_type": "stream",
     "text": [
      "mean, std for error on bin prediction for template 1 = 2.8234265734265733, 28.667870213940926\n",
      "\n",
      "Roughly 5% of bin predictions are more than than 51.0 below the measured bin\n",
      "Roughly 5% of bin predictions are more than than 45.0 above the measured bin\n"
     ]
    },
    {
     "data": {
      "image/png": "[encoded data removed]",
      "text/plain": [
       "<Figure size 1296x432 with 1 Axes>"
      ]
     },
     "metadata": {
      "needs_background": "light"
     },
     "output_type": "display_data"
    }
   ],
   "source": [
    "# How close are we to the correct bin, on average? \n",
    "print('mean, std for error on bin prediction for template 1 = {}, {}\\n'\\\n",
    "      .format(df['peakErrors_1'].mean(),df['peakErrors_1'].std()))\n",
    "\n",
    "hist = df.hist(column = 'peakErrors_1', bins = 100, figsize = (18,6));\n",
    "\n",
    "# 5% and 95% \n",
    "print('Roughly 5% of bin predictions are more than than {} below the measured bin'\\\n",
    "      .format(-1*df['peakErrors_1'].quantile(.05).round(0)))\n",
    "print('Roughly 5% of bin predictions are more than than {} above the measured bin'\\\n",
    "      .format(df['peakErrors_1'].quantile(.95).round(0)))"
   ]
  },
  {
   "cell_type": "code",
   "execution_count": 12,
   "metadata": {},
   "outputs": [
    {
     "name": "stdout",
     "output_type": "stream",
     "text": [
      "          count  meanPeakError  meanAbsPeakError  peakErrorWithinT  \\\n",
      "0-0.1        50       4.940000          5.180000          0.860000   \n",
      "0.1-0.2     120       3.841667          7.275000          0.866667   \n",
      "0.2-0.25     19      31.815789         31.815789          0.421053   \n",
      "0.25-0.3     49      12.163265         22.367347          0.489796   \n",
      "0.3-0.35     29     -25.241379         26.413793          0.620690   \n",
      ">0.35        19     -19.421053         27.842105          0.789474   \n",
      "\n",
      "          stdPeakError      5%    95%  \n",
      "0-0.1        12.493933   -1.00  36.00  \n",
      "0.1-0.2      16.341932   -8.05  18.15  \n",
      "0.2-0.25     26.137038    3.70  64.00  \n",
      "0.25-0.3     27.475252  -44.00  54.20  \n",
      "0.3-0.35     33.720125  -78.40   5.00  \n",
      ">0.35        58.496264 -156.90  10.40  \n"
     ]
    }
   ],
   "source": [
    "# Analysis by Moisture Level\n",
    "\n",
    "print(groupAnalysis(df, 'moistureLevel'))"
   ]
  },
  {
   "cell_type": "code",
   "execution_count": 13,
   "metadata": {},
   "outputs": [
    {
     "name": "stdout",
     "output_type": "stream",
     "text": [
      "        expNames         captureNames  peaksManual  peakPreds_1  peakPreds_2  \\\n",
      "44   active_silt    silt30cm100s4cans        279.0          278          278   \n",
      "45   active_silt    silt30cm100s4cans        298.0          210          277   \n",
      "46   active_silt    silt30cm100s4cans        281.0          281          281   \n",
      "47   active_silt    silt30cm100s4cans        279.0          279          279   \n",
      "48   active_silt    silt30cm100s4cans        280.0          280          280   \n",
      "49   active_silt    silt30cm100s4cans        278.0          278          278   \n",
      "50   active_silt    silt30cm100s4cans        289.0          279          279   \n",
      "51   active_silt    silt30cm100s4cans        288.0          278          278   \n",
      "52   active_silt    silt30cm100s4cans        277.0          277          277   \n",
      "53   active_silt    silt30cm100s4cans        290.0          279          279   \n",
      "241  clay_active  fullDepth_100s_3can        245.0          245            0   \n",
      "243  clay_active  fullDepth_100s_3can        235.0          243            0   \n",
      "244  clay_active  fullDepth_100s_3can        238.0          128            0   \n",
      "245  clay_active  fullDepth_100s_3can        241.0          241            0   \n",
      "246  clay_active  fullDepth_100s_3can        242.0          241            0   \n",
      "247  clay_active  fullDepth_100s_3can        241.0          241            0   \n",
      "248  clay_active  fullDepth_100s_3can        240.0          242            0   \n",
      "249  clay_active  fullDepth_100s_3can        233.0          240            0   \n",
      "250  clay_active  fullDepth_100s_3can        240.0          240            0   \n",
      "252  clay_active  fullDepth_100s_4can        274.0          274            0   \n",
      "253  clay_active  fullDepth_100s_4can        273.0          220            0   \n",
      "254  clay_active  fullDepth_100s_4can        272.0          209            0   \n",
      "255  clay_active  fullDepth_100s_4can        272.0          219            0   \n",
      "256  clay_active  fullDepth_100s_4can        270.0          208            0   \n",
      "257  clay_active  fullDepth_100s_4can        270.0          207            0   \n",
      "258  clay_active  fullDepth_100s_4can        271.0          207            0   \n",
      "259  clay_active  fullDepth_100s_4can        270.0          217            0   \n",
      "260  clay_active  fullDepth_100s_4can        270.0          217            0   \n",
      "261  clay_active  fullDepth_100s_4can        270.0          216            0   \n",
      "\n",
      "     peakErrors_1  peakErrors_2  vwcTrue  vwcManual  vwcPreds_1  vwcPreds_2  \\\n",
      "44           -1.0          -1.0   0.3180     0.3216    0.259437    0.278209   \n",
      "45          -88.0         -21.0   0.3180     0.3167    0.167374    0.277182   \n",
      "46            0.0           0.0   0.3180     0.3214    0.262942    0.281228   \n",
      "47            0.0           0.0   0.3180     0.3216    0.260614    0.279225   \n",
      "48            0.0           0.0   0.3180     0.3215    0.261782    0.280232   \n",
      "49            0.0           0.0   0.3180     0.3216    0.259437    0.278209   \n",
      "50          -10.0         -10.0   0.3180     0.3199    0.260614    0.279225   \n",
      "51          -10.0         -10.0   0.3180     0.3201    0.259437    0.278209   \n",
      "52            0.0           0.0   0.3180     0.3217    0.258252    0.277182   \n",
      "53          -11.0         -11.0   0.3180     0.3196    0.260614    0.279225   \n",
      "241           0.0        -245.0   0.3097     0.3059    0.277749    0.000000   \n",
      "243           8.0        -235.0   0.3097     0.2958    0.275730    0.000000   \n",
      "244        -110.0        -238.0   0.3097     0.2989    0.084160    0.000000   \n",
      "245           0.0        -241.0   0.3097     0.3019    0.273681    0.000000   \n",
      "246          -1.0        -242.0   0.3097     0.3029    0.273681    0.000000   \n",
      "247           0.0        -241.0   0.3097     0.3019    0.273681    0.000000   \n",
      "248           2.0        -240.0   0.3097     0.3009    0.274709    0.000000   \n",
      "249           7.0        -233.0   0.3097     0.2938    0.272645    0.000000   \n",
      "250           0.0        -240.0   0.3097     0.3009    0.272645    0.000000   \n",
      "252           0.0        -274.0   0.3451     0.3613    0.304523    0.000000   \n",
      "253         -53.0        -273.0   0.3451     0.3601    0.250100    0.000000   \n",
      "254         -63.0        -272.0   0.3451     0.3589    0.235966    0.000000   \n",
      "255         -53.0        -272.0   0.3451     0.3589    0.248871    0.000000   \n",
      "256         -62.0        -270.0   0.3451     0.3565    0.234613    0.000000   \n",
      "257         -63.0        -270.0   0.3451     0.3565    0.233247    0.000000   \n",
      "258         -64.0        -271.0   0.3451     0.3577    0.233247    0.000000   \n",
      "259         -53.0        -270.0   0.3451     0.3565    0.246379    0.000000   \n",
      "260         -53.0        -270.0   0.3451     0.3565    0.246379    0.000000   \n",
      "261         -54.0        -270.0   0.3451     0.3565    0.245117    0.000000   \n",
      "\n",
      "     vwcErrors_1  vwcErrors_2 moistureLevel  peakErrorsAbs_1  peakErrorsAbs_2  \\\n",
      "44     -0.062163    -0.043391      0.3-0.35              1.0              1.0   \n",
      "45     -0.149326    -0.039518      0.3-0.35             88.0             88.0   \n",
      "46     -0.058458    -0.040172      0.3-0.35              0.0              0.0   \n",
      "47     -0.060986    -0.042375      0.3-0.35              0.0              0.0   \n",
      "48     -0.059718    -0.041268      0.3-0.35              0.0              0.0   \n",
      "49     -0.062163    -0.043391      0.3-0.35              0.0              0.0   \n",
      "50     -0.059286    -0.040675      0.3-0.35             10.0             10.0   \n",
      "51     -0.060663    -0.041891      0.3-0.35             10.0             10.0   \n",
      "52     -0.063448    -0.044518      0.3-0.35              0.0              0.0   \n",
      "53     -0.058986    -0.040375      0.3-0.35             11.0             11.0   \n",
      "241    -0.028151    -0.305900      0.3-0.35              0.0              0.0   \n",
      "243    -0.020070    -0.295800      0.3-0.35              8.0              8.0   \n",
      "244    -0.214740    -0.298900      0.3-0.35            110.0            110.0   \n",
      "245    -0.028219    -0.301900      0.3-0.35              0.0              0.0   \n",
      "246    -0.029219    -0.302900      0.3-0.35              1.0              1.0   \n",
      "247    -0.028219    -0.301900      0.3-0.35              0.0              0.0   \n",
      "248    -0.026191    -0.300900      0.3-0.35              2.0              2.0   \n",
      "249    -0.021155    -0.293800      0.3-0.35              7.0              7.0   \n",
      "250    -0.028255    -0.300900      0.3-0.35              0.0              0.0   \n",
      "252    -0.056777    -0.361300      0.3-0.35              0.0              0.0   \n",
      "253    -0.110000    -0.360100      0.3-0.35             53.0             53.0   \n",
      "254    -0.122934    -0.358900      0.3-0.35             63.0             63.0   \n",
      "255    -0.110029    -0.358900      0.3-0.35             53.0             53.0   \n",
      "256    -0.121887    -0.356500      0.3-0.35             62.0             62.0   \n",
      "257    -0.123253    -0.356500      0.3-0.35             63.0             63.0   \n",
      "258    -0.124453    -0.357700      0.3-0.35             64.0             64.0   \n",
      "259    -0.110121    -0.356500      0.3-0.35             53.0             53.0   \n",
      "260    -0.110121    -0.356500      0.3-0.35             53.0             53.0   \n",
      "261    -0.111383    -0.356500      0.3-0.35             54.0             54.0   \n",
      "\n",
      "    tagType  peakErrorsWithinT_1  col2  \n",
      "44   active                 True   278  \n",
      "45   active                False   210  \n",
      "46   active                 True   281  \n",
      "47   active                 True   279  \n",
      "48   active                 True   280  \n",
      "49   active                 True   278  \n",
      "50   active                 True   279  \n",
      "51   active                 True   278  \n",
      "52   active                 True   277  \n",
      "53   active                 True   279  \n",
      "241  active                 True   245  \n",
      "243  active                 True   243  \n",
      "244  active                False   128  \n",
      "245  active                 True   241  \n",
      "246  active                 True   241  \n",
      "247  active                 True   241  \n",
      "248  active                 True   242  \n",
      "249  active                 True   240  \n",
      "250  active                 True   240  \n",
      "252  active                 True   274  \n",
      "253  active                False   220  \n",
      "254  active                False   209  \n",
      "255  active                False   219  \n",
      "256  active                False   208  \n",
      "257  active                False   207  \n",
      "258  active                False   207  \n",
      "259  active                False   217  \n",
      "260  active                False   217  \n",
      "261  active                False   216  \n"
     ]
    }
   ],
   "source": [
    "print(df[df['moistureLevel'] == '0.3-0.35'])"
   ]
  },
  {
   "cell_type": "code",
   "execution_count": 14,
   "metadata": {},
   "outputs": [
    {
     "name": "stdout",
     "output_type": "stream",
     "text": [
      "              count  meanPeakError  meanAbsPeakError  peakErrorWithinT  \\\n",
      "active_silt      50       3.980000          8.980000          0.900000   \n",
      "clay_active      49      -3.755102         21.959184          0.448980   \n",
      "clay_passive     49      11.877551         15.020408          0.714286   \n",
      "farm_active      39      -1.705128         21.320513          0.794872   \n",
      "farm_passive     50       4.120000         10.680000          0.820000   \n",
      "silt_passive     49       1.448980         10.224490          0.775510   \n",
      "\n",
      "              stdPeakError     5%    95%  \n",
      "active_silt      24.307965  -10.0  37.70  \n",
      "clay_active      33.441822  -63.0  36.00  \n",
      "clay_passive     22.706123   -7.2  56.60  \n",
      "farm_active      45.260317 -119.9  26.30  \n",
      "farm_passive     22.537624  -13.1  44.85  \n",
      "silt_passive     18.781708  -32.0  29.00  \n"
     ]
    }
   ],
   "source": [
    "# Analysis by experiment \n",
    "\n",
    "print(groupAnalysis(df, 'expNames'))"
   ]
  },
  {
   "cell_type": "code",
   "execution_count": 15,
   "metadata": {},
   "outputs": [
    {
     "name": "stdout",
     "output_type": "stream",
     "text": [
      "         count  meanPeakError  meanAbsPeakError  peakErrorWithinT  \\\n",
      "active     138      -0.373188         17.076087          0.710145   \n",
      "passive    148       5.804054         11.966216          0.770270   \n",
      "\n",
      "         stdPeakError    5%   95%  \n",
      "active      34.392966 -63.0  36.0  \n",
      "passive     21.735472 -11.3  49.3  \n"
     ]
    }
   ],
   "source": [
    "# Analysis by tag\n",
    "\n",
    "print(groupAnalysis(df, 'tagType'))"
   ]
  },
  {
   "cell_type": "code",
   "execution_count": 16,
   "metadata": {},
   "outputs": [
    {
     "data": {
      "text/plain": [
       "[<matplotlib.lines.Line2D at 0x7efc9ab1e860>]"
      ]
     },
     "execution_count": 16,
     "metadata": {},
     "output_type": "execute_result"
    },
    {
     "data": {
      "image/png": "[encoded data removed]",
      "text/plain": [
       "<Figure size 432x288 with 1 Axes>"
      ]
     },
     "metadata": {
      "needs_background": "light"
     },
     "output_type": "display_data"
    }
   ],
   "source": [
    "plt.plot(df2['vwcTrue'], df2['peakPreds_1'], 'x')"
   ]
  },
  {
   "cell_type": "code",
   "execution_count": null,
   "metadata": {},
   "outputs": [],
   "source": []
  }
 ],
 "metadata": {
  "kernelspec": {
   "display_name": "Python 3",
   "language": "python",
   "name": "python3"
  },
  "language_info": {
   "codemirror_mode": {
    "name": "ipython",
    "version": 3
   },
   "file_extension": ".py",
   "mimetype": "text/x-python",
   "name": "python",
   "nbconvert_exporter": "python",
   "pygments_lexer": "ipython3",
   "version": "3.7.3"
  }
 },
 "nbformat": 4,
 "nbformat_minor": 2
}
